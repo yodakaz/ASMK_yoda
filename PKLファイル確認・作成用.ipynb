{
  "nbformat": 4,
  "nbformat_minor": 0,
  "metadata": {
    "colab": {
      "name": "Untitled15.ipynb",
      "provenance": [],
      "authorship_tag": "ABX9TyM0IrKFQwshayZu/E/IKsoa",
      "include_colab_link": true
    },
    "kernelspec": {
      "name": "python3",
      "display_name": "Python 3"
    },
    "language_info": {
      "name": "python"
    }
  },
  "cells": [
    {
      "cell_type": "markdown",
      "metadata": {
        "id": "view-in-github",
        "colab_type": "text"
      },
      "source": [
        "<a href=\"https://colab.research.google.com/github/yodakaz/ASMK_yoda/blob/main/PKL%E3%83%95%E3%82%A1%E3%82%A4%E3%83%AB%E7%A2%BA%E8%AA%8D%E3%83%BB%E4%BD%9C%E6%88%90%E7%94%A8.ipynb\" target=\"_parent\"><img src=\"https://colab.research.google.com/assets/colab-badge.svg\" alt=\"Open In Colab\"/></a>"
      ]
    },
    {
      "cell_type": "code",
      "metadata": {
        "colab": {
          "base_uri": "https://localhost:8080/"
        },
        "id": "YrrLwM1bglzg",
        "outputId": "cdf0c6bc-5177-4279-c187-4c18fa8dda4e"
      },
      "source": [
        "import os\n",
        "os.chdir('/content')\n",
        "!git clone https://github.com/MING410/local #データセット"
      ],
      "execution_count": 3,
      "outputs": [
        {
          "output_type": "stream",
          "text": [
            "Cloning into 'local'...\n",
            "remote: Enumerating objects: 5839, done.\u001b[K\n",
            "remote: Counting objects: 100% (1934/1934), done.\u001b[K\n",
            "remote: Compressing objects: 100% (135/135), done.\u001b[K\n",
            "remote: Total 5839 (delta 1799), reused 1934 (delta 1799), pack-reused 3905\u001b[K\n",
            "Receiving objects: 100% (5839/5839), 468.04 MiB | 26.35 MiB/s, done.\n",
            "Resolving deltas: 100% (3689/3689), done.\n",
            "Checking out files: 100% (7539/7539), done.\n"
          ],
          "name": "stdout"
        }
      ]
    },
    {
      "cell_type": "code",
      "metadata": {
        "id": "-FDhtUb2X_RC",
        "colab": {
          "base_uri": "https://localhost:8080/"
        },
        "outputId": "0df438c7-3f40-47fb-b585-74b9fed36853"
      },
      "source": [
        "#作成したpklファイル確認用\n",
        "import pickle\n",
        "#with open(\"retrieval-SfM-120k.pkl\", mode=\"rb\") as f:\n",
        "with open(\"mitsubishi_dataset.pkl\", mode=\"rb\") as f:\n",
        "  hoge = pickle.load(f)#['train']\n",
        "  print(hoge.keys()) #キーの取得\n",
        "  #print(hoge['cids'])\n",
        "  for ho in hoge['cids']:\n",
        "    if '.DS_Store' in ho:\n",
        "      print(ho)\n",
        "  print(len(hoge['cids']))\n",
        "  print(len(hoge['qidxs']), max(hoge['qidxs']))\n",
        "  print(len(hoge['pidxs']), max(hoge['pidxs']))\n",
        "  print(len(hoge['cluster']), max(hoge['cluster']))\n",
        "\n",
        "#with open(\"retrieval-SfM-120k-val-eccv2020.pkl\", mode=\"rb\") as f:\n",
        "with open(\"mitsubishi_dataset_val-eccv2020.pkl\", mode=\"rb\") as f:\n",
        "  hoge = pickle.load(f)\n",
        "  print(hoge.keys()) #キーの取得\n",
        "  #print(hoge['cids'])\n",
        "  for ho in hoge['cids']:\n",
        "    if '.DS_Store' in ho:\n",
        "      print(ho)\n",
        "  print(len(hoge['cids']))\n",
        "  print(len(hoge['qidx']), max(hoge['qidx']))\n",
        "  print(len(hoge['gnd']))#, max(hoge['pidxs']))\n",
        "  print(len(hoge['cluster']), max(hoge['cluster']))"
      ],
      "execution_count": 5,
      "outputs": [
        {
          "output_type": "stream",
          "text": [
            "dict_keys(['cids', 'qidxs', 'pidxs', 'cluster'])\n",
            "1035\n",
            "690 1035\n",
            "690 1035\n",
            "1035 49\n",
            "dict_keys(['cids', 'qidx', 'gnd', 'cluster'])\n",
            "657\n",
            "239 22\n",
            "239\n",
            "657 49\n"
          ],
          "name": "stdout"
        }
      ]
    },
    {
      "cell_type": "code",
      "metadata": {
        "id": "UNd9jj53wIbz"
      },
      "source": [
        "#for 学習/学習結果の評価用\n",
        "import os\n",
        "import random\n",
        "import pickle\n",
        "import numpy as np\n",
        "\n",
        "\"\"\"\n",
        "画像読み込み→パスの格納('cids')，インデックスの分類('qidx', 'gnd')\n",
        "              部品名の分類('cluster')\n",
        "make_q_gndのparameter\n",
        "    fanemes：部品ごとの画像\n",
        "    n：前後の部品の画像とインデックスを合わせる変数\n",
        "    (d：randomで抽出しているので使用していない)\n",
        "    obj_2：クエリーのインデックスを格納するリスト\n",
        "    obj_3：ポジティブのインデックスを格納するリスト\n",
        "\"\"\"\n",
        "def make_qp(folder, fnames, n, c0, d, obj_1, obj_2, obj_3, obj_4):\n",
        "  if len(fnames)%d == 0:\n",
        "    for i in range(len(fnames)-d):\n",
        "      obj_1.append(\"{}/{}\".format(folder, fnames[i]))\n",
        "      obj_4.append(c0)\n",
        "      if i%d == d-1:\n",
        "        obj_2.append(i+n)\n",
        "      elif i%d == 0:\n",
        "        obj_3.append(i+n)\n",
        "  \n",
        "  else:#if len(fnames)%d != 0:\n",
        "    for i in range(len(fnames)-len(fnames)%d-d):\n",
        "      obj_1.append(\"{}/{}\".format(folder, fnames[i]))\n",
        "      obj_4.append(c0)\n",
        "      if i%d == d-1:\n",
        "        obj_2.append(i+n)\n",
        "      elif i%d == 0:\n",
        "        obj_3.append(i+n)\n",
        "  return obj_1, obj_2, obj_3, obj_4\n",
        "\n",
        "def make_q_gnd(folder, fnames, n, c0, obj_1, obj_2, obj_3, obj_4):\n",
        "  for j in range(len(fnames)):\n",
        "    obj_1.append(\"{}/{}\".format(folder, fnames[j]))\n",
        "    obj_4.append(c0)\n",
        "\n",
        "  qidx, ok, junk = [], [], []\n",
        "  idx = [i for i in range(len(fnames))]\n",
        "  #print(idx)\n",
        "  #breakpoint()\n",
        "  if len(idx) > 5:\n",
        "    qidxs = random.sample(idx, 5)\n",
        "  else:\n",
        "    qidxs = random.sample(idx, len(idx))\n",
        "  qidxs.sort()\n",
        "  for qidx in qidxs:\n",
        "    obj_2.append(qidx)\n",
        "\n",
        "  for i in range(len(qidxs)):\n",
        "  #for i in range(5):\n",
        "    if len(idx) <= 20:\n",
        "      random_max = len(idx)\n",
        "    else:\n",
        "      random_max = 20\n",
        "    ok = random.sample(idx, random.randint(1,random_max))\n",
        "    ok.sort()\n",
        "    junk = idx.copy()\n",
        "    for j in ok:\n",
        "      junk.remove(j)\n",
        "    obj_3.append({'ok':np.array(ok), 'junk':np.array(junk)})\n",
        "\n",
        "  return obj_1, obj_2, obj_3, obj_4\n",
        "\n",
        "root_path = '/content/local/mitsubishi_dataset/png_images'\n",
        "os.chdir(root_path)\n",
        "obj_t1, obj_t2 ,obj_t3, obj_t4 = [], [], [], []\n",
        "obj_e1, obj_e2 ,obj_e3, obj_e4 = [], [], [], []\n",
        "\n",
        "nt0, ne0, c0 = 0, 0, 0\n",
        "for folder in os.listdir(root_path):\n",
        "  nt = nt0+1\n",
        "  ne = ne0+1\n",
        "  c0 = c0+1\n",
        "  fnames = []\n",
        "  #for i in range(len(os.listdir(folder))):\n",
        "  for fname in os.listdir(folder):\n",
        "    #fname = os.listdir(folder)[i]\n",
        "    if fname[-4:] == '.png':\n",
        "      #obj_1.append(\"{}/{}\".format(folder, fname)) #filename of images\n",
        "      #obj_4.append(c0) #cluster (same number ; 2D has 1 camera position)\n",
        "      fnames.append(fname)\n",
        "    #print(fnames)\n",
        "  fnames_t = fnames[:int(len(fnames)/3)*2]\n",
        "  fnames_e = fnames[int(len(fnames)/3)*2:]\n",
        "\n",
        "    #for d in range(5,6):\n",
        "  obj_t1, obj_t2 ,obj_t3, obj_t4 = make_qp(folder, fnames_t, nt, c0, 3, obj_t1, obj_t2 ,obj_t3, obj_t4)\n",
        "  obj_e1, obj_e2 ,obj_e3, obj_e4 = make_q_gnd(folder, fnames_e, ne, c0, obj_e1, obj_e2 ,obj_e3, obj_e4)\n",
        "  nt0, ne0 = len(obj_t1), len(obj_e1)      \n",
        "\n",
        "obj_t = {'cids':obj_t1, 'qidxs':obj_t2+obj_t3, 'pidxs':obj_t3+obj_t2, 'cluster':obj_t4}\n",
        "obj_e = {'cids':obj_e1, 'qidx':obj_e2, 'gnd':obj_e3, 'cluster':obj_e4}\n",
        "\n",
        "#print(obj)\n",
        "os.chdir('/content')\n",
        "with open(\"mitsubishi_dataset.pkl\", mode=\"wb\") as ft:\n",
        "    #pickle.dump(, f)\n",
        "    pickle.dump(obj_t, ft)\n",
        "\n",
        "with open(\"mitsubishi_dataset_val-eccv2020.pkl\", mode=\"wb\") as fe:\n",
        "    #pickle.dump(, f)\n",
        "    pickle.dump(obj_e, fe)"
      ],
      "execution_count": 4,
      "outputs": []
    },
    {
      "cell_type": "code",
      "metadata": {
        "id": "E2ShJN1izOpJ",
        "colab": {
          "base_uri": "https://localhost:8080/"
        },
        "outputId": "74cc5467-02d0-4515-fc92-7b5011be867d"
      },
      "source": [
        "import pickle\n",
        "\n",
        "#with open(\"mitsubishi_dataset_val-eccv2020.pkl\", mode=\"rb\") as f:\n",
        "with open(\"retrieval-SfM-120k-val-eccv2020.pkl\", mode=\"rb\") as f:\n",
        "    hoge = pickle.load(f)\n",
        "    print(hoge.keys())\n",
        "    print(hoge['cids'][:2])\n",
        "    print(hoge['qidx'][:2])\n",
        "    print(hoge['gnd'][:0])\n",
        "    print(hoge['cluster'][:2])\n",
        "    \"\"\"\n",
        "    print(len(hoge['cids']))\n",
        "    print(len(hoge['qidx']))\n",
        "    print(len(hoge['gnd']), hoge['gnd'][:10])\n",
        "    print(len(hoge['cluster']), hoge['cluster'][820:840])\n",
        "    print(max(hoge['cluster']))\n",
        "    \"\"\"\n",
        "    \"\"\"\n",
        "    aa, bb, cc = [], [], []\n",
        "    for i in range(len(hoge['gnd'])):\n",
        "      a, b = hoge['gnd'][i]['ok'], hoge['gnd'][i]['junk']\n",
        "      c = hoge['qidx']\n",
        "      aa.append(a)\n",
        "      bb.append(b)\n",
        "      #cc.append(c)\n",
        "      #c = max(hoge['gnd'][i]['junk'])\n",
        "\n",
        "      #print(a, a+b, c)\n",
        "      #print('ok',len(hoge['gnd'][i]['ok']), max(hoge['gnd'][i]['ok']))\n",
        "      #print('junk',len(hoge['gnd'][i]['junk']), max(hoge['gnd'][i]['junk']))\n",
        "    #print(cc)\n",
        "    #print(len(set(cc[2]) & set(cc[1])))\n",
        "    for i in range(len(aa)):\n",
        "      d = set(bb[i]) & set(c)\n",
        "      print(len(d), d)\n",
        "    \"\"\""
      ],
      "execution_count": null,
      "outputs": [
        {
          "output_type": "stream",
          "text": [
            "dict_keys(['cids', 'qidx', 'gnd', 'cluster'])\n",
            "['0028a0f1259f877a22c2981b22504265', '006d49ca8bf31c0eff72bc789ccb9d21']\n",
            "[364  80]\n",
            "[]\n",
            "[0 0]\n"
          ],
          "name": "stdout"
        }
      ]
    },
    {
      "cell_type": "code",
      "metadata": {
        "colab": {
          "base_uri": "https://localhost:8080/"
        },
        "id": "JTLCnjvCWnJK",
        "outputId": "178ceacd-4346-4ed8-a2a5-966c54101408"
      },
      "source": [
        "import pickle\n",
        "\n",
        "with open(\"retrieval-SfM-120k.pkl\", mode=\"rb\") as f:\n",
        "    hoge = pickle.load(f)\n",
        "    print(hoge['train'].keys())\n",
        "    print(len(hoge['train']['cids']))#, hoge['train']['cids'])\n",
        "    \"\"\"\n",
        "    print(len(hoge['train']['qidxs']))\n",
        "    print(len(hoge['train']['pidxs']))\n",
        "    print(len(hoge['train']['cluster']))\n",
        "\n",
        "    print(hoge['train']['cids'][-10:])\n",
        "    print(min(hoge['train']['qidxs']))\n",
        "    print(min(hoge['train']['pidxs']))\n",
        "    print(hoge['train']['cluster'][-10:])\n",
        "    \"\"\""
      ],
      "execution_count": null,
      "outputs": [
        {
          "output_type": "stream",
          "text": [
            "dict_keys(['cids', 'qidxs', 'pidxs', 'cluster'])\n",
            "91642\n"
          ],
          "name": "stdout"
        }
      ]
    },
    {
      "cell_type": "code",
      "metadata": {
        "id": "1gKaEBBj8kIV",
        "colab": {
          "base_uri": "https://localhost:8080/"
        },
        "outputId": "759aa426-a328-4155-8374-4805ec60e315"
      },
      "source": [
        "import pickle\n",
        "\n",
        "with open(\"retrieval-SfM-120k.pkl\", mode=\"rb\") as f1:\n",
        "    hoge1 = pickle.load(f1)\n",
        "    print(hoge1['train'].keys())\n",
        "\n",
        "with open(\"retrieval-SfM-120k-val-eccv2020.pkl\", mode=\"rb\") as f2:\n",
        "    hoge2 = pickle.load(f2)\n",
        "    print(hoge2.keys())\n",
        "\n",
        "cids1, cids2 = hoge1['train']['cids'], hoge2['cids']\n",
        "print(len(cids1), len(cids2))\n",
        "print(cids2[:10])\n",
        "samecid = set(cids1) & set(cids2)\n",
        "print(len(list(samecid)))\n",
        "\n",
        "qidxs1, qidxs2 = hoge1['train']['qidxs'], hoge2['qidx']\n",
        "print(len(qidxs1), len(qidxs2))\n",
        "sameqidx = set(qidxs1) & set(qidxs2)\n",
        "print(len(list(sameqidx))) #重複はあまり関係ない"
      ],
      "execution_count": null,
      "outputs": [
        {
          "output_type": "stream",
          "text": [
            "dict_keys(['cids', 'qidxs', 'pidxs', 'cluster'])\n",
            "dict_keys(['cids', 'qidx', 'gnd', 'cluster'])\n",
            "91642 12431\n",
            "['0028a0f1259f877a22c2981b22504265', '006d49ca8bf31c0eff72bc789ccb9d21', '00819fa357902d32d5d5cc5ac709f83c', '0091e85c350ce634407698b7e86bb779', '013764059c49cc1db4948eb7b1bd0a7e', '01381870050b91cd45f698b8fa35aee6', '01c8fc943f189a76a49ea22c2d8b1446', '01d88cd0ad430d51c64f0c6d2eaa328e', '01f3920b622bdcc17fb238d62062f55d', '0222fe3dfb5ff234ded8d1e980abef6d']\n",
            "0\n",
            "181697 719\n",
            "682\n"
          ],
          "name": "stdout"
        }
      ]
    },
    {
      "cell_type": "code",
      "metadata": {
        "colab": {
          "base_uri": "https://localhost:8080/"
        },
        "id": "gPezk4u9_8-i",
        "outputId": "a068e5d3-8b77-4fc4-aeea-c27fe0cb81c7"
      },
      "source": [
        "idx = [i for i in range(10)]\n",
        "ok = [2,4,7]\n",
        "print(idx, ok)\n",
        "out = idx.copy()\n",
        "for i in ok:\n",
        "  out.remove(i)\n",
        "print(out)"
      ],
      "execution_count": null,
      "outputs": [
        {
          "output_type": "stream",
          "text": [
            "[0, 1, 2, 3, 4, 5, 6, 7, 8, 9] [2, 4, 7]\n",
            "[0, 1, 3, 5, 6, 8, 9]\n"
          ],
          "name": "stdout"
        }
      ]
    }
  ]
}