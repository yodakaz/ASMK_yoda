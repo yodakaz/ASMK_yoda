{
  "nbformat": 4,
  "nbformat_minor": 0,
  "metadata": {
    "colab": {
      "name": "Untitled2.ipynb",
      "provenance": [],
      "mount_file_id": "https://github.com/yodakaz/ASMK_yoda/blob/main/how/Github%E3%81%8B%E3%82%89%E5%AE%9F%E8%A1%8C5.0.ipynb",
      "authorship_tag": "ABX9TyO0WyaMq7TKZUwj/D0ly0Z1",
      "include_colab_link": true
    },
    "kernelspec": {
      "name": "python3",
      "display_name": "Python 3"
    },
    "language_info": {
      "name": "python"
    },
    "accelerator": "GPU"
  },
  "cells": [
    {
      "cell_type": "markdown",
      "metadata": {
        "id": "view-in-github",
        "colab_type": "text"
      },
      "source": [
        "<a href=\"https://colab.research.google.com/github/yodakaz/ASMK_yoda/blob/main/how/Github%E3%81%8B%E3%82%89%E5%AE%9F%E8%A1%8C5.1.ipynb\" target=\"_parent\"><img src=\"https://colab.research.google.com/assets/colab-badge.svg\" alt=\"Open In Colab\"/></a>"
      ]
    },
    {
      "cell_type": "code",
      "metadata": {
        "id": "elBur5KeY4DZ"
      },
      "source": [
        "# clone 失敗等によるフォルダ削除用\n",
        "import shutil\n",
        "\n",
        "directory = '/content/how/how_experiments'\n",
        "\n",
        "try:\n",
        "    shutil.rmtree(directory)\n",
        "except FileNotFoundError:\n",
        "    pass"
      ],
      "execution_count": null,
      "outputs": []
    },
    {
      "cell_type": "code",
      "metadata": {
        "id": "JCt_R1CzqGIS",
        "outputId": "26c24a4a-d389-47bc-d766-768dd6665409",
        "colab": {
          "base_uri": "https://localhost:8080/"
        }
      },
      "source": [
        "import os\n",
        "os.chdir('/content')\n",
        "!git clone https://github.com/yodakaz/ASMK_yoda.git"
      ],
      "execution_count": 1,
      "outputs": [
        {
          "output_type": "stream",
          "text": [
            "Cloning into 'ASMK_yoda'...\n",
            "remote: Enumerating objects: 230, done.\u001b[K\n",
            "remote: Counting objects: 100% (230/230), done.\u001b[K\n",
            "remote: Compressing objects: 100% (215/215), done.\u001b[K\n",
            "remote: Total 230 (delta 36), reused 0 (delta 0), pack-reused 0\u001b[K\n",
            "Receiving objects: 100% (230/230), 961.90 KiB | 5.87 MiB/s, done.\n",
            "Resolving deltas: 100% (36/36), done.\n"
          ],
          "name": "stdout"
        }
      ]
    },
    {
      "cell_type": "code",
      "metadata": {
        "id": "vWmTGKQGqcAv",
        "outputId": "88c72dd2-0c37-4fd6-83eb-27589065484a",
        "colab": {
          "base_uri": "https://localhost:8080/",
          "height": 36
        }
      },
      "source": [
        "# temp.pthファイルをgoogle driveからコピー\n",
        "import shutil\n",
        "shutil.copytree(\"/content/drive/MyDrive/ASMK/how_temp\", \"/content/how/how_temp\")"
      ],
      "execution_count": 2,
      "outputs": [
        {
          "output_type": "execute_result",
          "data": {
            "application/vnd.google.colaboratory.intrinsic+json": {
              "type": "string"
            },
            "text/plain": [
              "'/content/how/how_temp'"
            ]
          },
          "metadata": {
            "tags": []
          },
          "execution_count": 2
        }
      ]
    },
    {
      "cell_type": "code",
      "metadata": {
        "id": "FXhtbyezYnZ-",
        "colab": {
          "base_uri": "https://localhost:8080/"
        },
        "outputId": "0a283098-960b-44ae-be61-2d314e37076b"
      },
      "source": [
        "# 元コードおよびデータ clone\n",
        "import os\n",
        "os.chdir('/content')\n",
        "!git clone https://github.com/gtolias/how.git\n",
        "\n",
        "!git clone https://github.com/MING410/local #データセットのclone"
      ],
      "execution_count": null,
      "outputs": [
        {
          "output_type": "stream",
          "text": [
            "Cloning into 'how'...\n",
            "remote: Enumerating objects: 120, done.\u001b[K\n",
            "remote: Counting objects: 100% (120/120), done.\u001b[K\n",
            "remote: Compressing objects: 100% (69/69), done.\u001b[K\n",
            "remote: Total 120 (delta 47), reused 107 (delta 41), pack-reused 0\u001b[K\n",
            "Receiving objects: 100% (120/120), 38.83 KiB | 12.94 MiB/s, done.\n",
            "Resolving deltas: 100% (47/47), done.\n",
            "Cloning into 'local'...\n",
            "remote: Enumerating objects: 5839, done.\u001b[K\n",
            "remote: Counting objects: 100% (1934/1934), done.\u001b[K\n",
            "remote: Compressing objects: 100% (135/135), done.\u001b[K\n",
            "remote: Total 5839 (delta 1799), reused 1934 (delta 1799), pack-reused 3905\u001b[K\n",
            "Receiving objects: 100% (5839/5839), 468.04 MiB | 36.73 MiB/s, done.\n",
            "Resolving deltas: 100% (3689/3689), done.\n",
            "Checking out files: 100% (7539/7539), done.\n"
          ],
          "name": "stdout"
        }
      ]
    },
    {
      "cell_type": "code",
      "metadata": {
        "id": "s7Sf-klxKWtR",
        "colab": {
          "base_uri": "https://localhost:8080/"
        },
        "outputId": "090b237b-3ac5-4410-a652-af770f51e82a"
      },
      "source": [
        "# cirtorch\n",
        "import os\n",
        "os.chdir('/content')\n",
        "\n",
        "!wget \"https://github.com/filipradenovic/cnnimageretrieval-pytorch/archive/v1.2.zip\"\n",
        "!unzip v1.2.zip\n",
        "!rm v1.2.zip\n",
        "!export PYTHONPATH=${PYTHONPATH}:$(realpath cnnimageretrieval-pytorch-1.2)\n",
        "\n",
        "#\"cirtorh\"をhowに入れる"
      ],
      "execution_count": null,
      "outputs": [
        {
          "output_type": "stream",
          "text": [
            "--2021-07-11 23:52:03--  https://github.com/filipradenovic/cnnimageretrieval-pytorch/archive/v1.2.zip\n",
            "Resolving github.com (github.com)... 140.82.114.4\n",
            "Connecting to github.com (github.com)|140.82.114.4|:443... connected.\n",
            "HTTP request sent, awaiting response... 302 Found\n",
            "Location: https://codeload.github.com/filipradenovic/cnnimageretrieval-pytorch/zip/v1.2 [following]\n",
            "--2021-07-11 23:52:03--  https://codeload.github.com/filipradenovic/cnnimageretrieval-pytorch/zip/v1.2\n",
            "Resolving codeload.github.com (codeload.github.com)... 140.82.112.9\n",
            "Connecting to codeload.github.com (codeload.github.com)|140.82.112.9|:443... connected.\n",
            "HTTP request sent, awaiting response... 200 OK\n",
            "Length: unspecified [application/zip]\n",
            "Saving to: ‘v1.2.zip’\n",
            "\n",
            "v1.2.zip                [ <=>                ]  41.06K  --.-KB/s    in 0.006s  \n",
            "\n",
            "2021-07-11 23:52:03 (6.77 MB/s) - ‘v1.2.zip’ saved [42048]\n",
            "\n",
            "Archive:  v1.2.zip\n",
            "7da5c2a8c7e6d27ac652d1de137d17df31cb510a\n",
            "   creating: cnnimageretrieval-pytorch-1.2/\n",
            "  inflating: cnnimageretrieval-pytorch-1.2/LICENSE  \n",
            "  inflating: cnnimageretrieval-pytorch-1.2/README.md  \n",
            "   creating: cnnimageretrieval-pytorch-1.2/cirtorch/\n",
            "  inflating: cnnimageretrieval-pytorch-1.2/cirtorch/__init__.py  \n",
            "   creating: cnnimageretrieval-pytorch-1.2/cirtorch/datasets/\n",
            " extracting: cnnimageretrieval-pytorch-1.2/cirtorch/datasets/__init__.py  \n",
            "  inflating: cnnimageretrieval-pytorch-1.2/cirtorch/datasets/datahelpers.py  \n",
            "  inflating: cnnimageretrieval-pytorch-1.2/cirtorch/datasets/genericdataset.py  \n",
            "  inflating: cnnimageretrieval-pytorch-1.2/cirtorch/datasets/testdataset.py  \n",
            "  inflating: cnnimageretrieval-pytorch-1.2/cirtorch/datasets/traindataset.py  \n",
            "   creating: cnnimageretrieval-pytorch-1.2/cirtorch/examples/\n",
            " extracting: cnnimageretrieval-pytorch-1.2/cirtorch/examples/__init__.py  \n",
            "  inflating: cnnimageretrieval-pytorch-1.2/cirtorch/examples/example_descriptor_extraction.py  \n",
            "  inflating: cnnimageretrieval-pytorch-1.2/cirtorch/examples/test.py  \n",
            "  inflating: cnnimageretrieval-pytorch-1.2/cirtorch/examples/test_e2e.py  \n",
            "  inflating: cnnimageretrieval-pytorch-1.2/cirtorch/examples/train.py  \n",
            "   creating: cnnimageretrieval-pytorch-1.2/cirtorch/layers/\n",
            " extracting: cnnimageretrieval-pytorch-1.2/cirtorch/layers/__init__.py  \n",
            "  inflating: cnnimageretrieval-pytorch-1.2/cirtorch/layers/functional.py  \n",
            "  inflating: cnnimageretrieval-pytorch-1.2/cirtorch/layers/loss.py  \n",
            "  inflating: cnnimageretrieval-pytorch-1.2/cirtorch/layers/normalization.py  \n",
            "  inflating: cnnimageretrieval-pytorch-1.2/cirtorch/layers/pooling.py  \n",
            "   creating: cnnimageretrieval-pytorch-1.2/cirtorch/networks/\n",
            " extracting: cnnimageretrieval-pytorch-1.2/cirtorch/networks/__init__.py  \n",
            "  inflating: cnnimageretrieval-pytorch-1.2/cirtorch/networks/imageretrievalnet.py  \n",
            "   creating: cnnimageretrieval-pytorch-1.2/cirtorch/utils/\n",
            " extracting: cnnimageretrieval-pytorch-1.2/cirtorch/utils/__init__.py  \n",
            "  inflating: cnnimageretrieval-pytorch-1.2/cirtorch/utils/download.py  \n",
            "  inflating: cnnimageretrieval-pytorch-1.2/cirtorch/utils/download_win.py  \n",
            "  inflating: cnnimageretrieval-pytorch-1.2/cirtorch/utils/evaluate.py  \n",
            "  inflating: cnnimageretrieval-pytorch-1.2/cirtorch/utils/general.py  \n",
            "  inflating: cnnimageretrieval-pytorch-1.2/cirtorch/utils/whiten.py  \n"
          ],
          "name": "stdout"
        }
      ]
    },
    {
      "cell_type": "code",
      "metadata": {
        "id": "ZpVfZ0Y_Ke2Z",
        "colab": {
          "base_uri": "https://localhost:8080/"
        },
        "outputId": "71b34892-f6a1-445d-ea87-8b7dece5ebb1"
      },
      "source": [
        "# asmk\n",
        "import os\n",
        "os.chdir('/content')\n",
        "\n",
        "!git clone https://github.com/jenicek/asmk.git\n",
        "!pip3 install pyaml numpy faiss-gpu\n",
        "!cd asmk\n",
        "!python3 /content/asmk/setup.py build_ext --inplace\n",
        "!rm -r build\n",
        "!cd ..\n",
        "!export PYTHONPATH=${PYTHONPATH}:$(realpath asmk)\n",
        "#\"asmk\"(全体)をhowにいれる"
      ],
      "execution_count": null,
      "outputs": [
        {
          "output_type": "stream",
          "text": [
            "Cloning into 'asmk'...\n",
            "remote: Enumerating objects: 128, done.\u001b[K\n",
            "remote: Counting objects:   0% (1/128)\u001b[K\rremote: Counting objects:   1% (2/128)\u001b[K\rremote: Counting objects:   2% (3/128)\u001b[K\rremote: Counting objects:   3% (4/128)\u001b[K\rremote: Counting objects:   4% (6/128)\u001b[K\rremote: Counting objects:   5% (7/128)\u001b[K\rremote: Counting objects:   6% (8/128)\u001b[K\rremote: Counting objects:   7% (9/128)\u001b[K\rremote: Counting objects:   8% (11/128)\u001b[K\rremote: Counting objects:   9% (12/128)\u001b[K\rremote: Counting objects:  10% (13/128)\u001b[K\rremote: Counting objects:  11% (15/128)\u001b[K\rremote: Counting objects:  12% (16/128)\u001b[K\rremote: Counting objects:  13% (17/128)\u001b[K\rremote: Counting objects:  14% (18/128)\u001b[K\rremote: Counting objects:  15% (20/128)\u001b[K\rremote: Counting objects:  16% (21/128)\u001b[K\rremote: Counting objects:  17% (22/128)\u001b[K\rremote: Counting objects:  18% (24/128)\u001b[K\rremote: Counting objects:  19% (25/128)\u001b[K\rremote: Counting objects:  20% (26/128)\u001b[K\rremote: Counting objects:  21% (27/128)\u001b[K\rremote: Counting objects:  22% (29/128)\u001b[K\rremote: Counting objects:  23% (30/128)\u001b[K\rremote: Counting objects:  24% (31/128)\u001b[K\rremote: Counting objects:  25% (32/128)\u001b[K\rremote: Counting objects:  26% (34/128)\u001b[K\rremote: Counting objects:  27% (35/128)\u001b[K\rremote: Counting objects:  28% (36/128)\u001b[K\rremote: Counting objects:  29% (38/128)\u001b[K\rremote: Counting objects:  30% (39/128)\u001b[K\rremote: Counting objects:  31% (40/128)\u001b[K\rremote: Counting objects:  32% (41/128)\u001b[K\rremote: Counting objects:  33% (43/128)\u001b[K\rremote: Counting objects:  34% (44/128)\u001b[K\rremote: Counting objects:  35% (45/128)\u001b[K\rremote: Counting objects:  36% (47/128)\u001b[K\rremote: Counting objects:  37% (48/128)\u001b[K\rremote: Counting objects:  38% (49/128)\u001b[K\rremote: Counting objects:  39% (50/128)\u001b[K\rremote: Counting objects:  40% (52/128)\u001b[K\rremote: Counting objects:  41% (53/128)\u001b[K\rremote: Counting objects:  42% (54/128)\u001b[K\rremote: Counting objects:  43% (56/128)\u001b[K\rremote: Counting objects:  44% (57/128)\u001b[K\rremote: Counting objects:  45% (58/128)\u001b[K\rremote: Counting objects:  46% (59/128)\u001b[K\rremote: Counting objects:  47% (61/128)\u001b[K\rremote: Counting objects:  48% (62/128)\u001b[K\rremote: Counting objects:  49% (63/128)\u001b[K\rremote: Counting objects:  50% (64/128)\u001b[K\rremote: Counting objects:  51% (66/128)\u001b[K\rremote: Counting objects:  52% (67/128)\u001b[K\rremote: Counting objects:  53% (68/128)\u001b[K\rremote: Counting objects:  54% (70/128)\u001b[K\rremote: Counting objects:  55% (71/128)\u001b[K\rremote: Counting objects:  56% (72/128)\u001b[K\rremote: Counting objects:  57% (73/128)\u001b[K\rremote: Counting objects:  58% (75/128)\u001b[K\rremote: Counting objects:  59% (76/128)\u001b[K\rremote: Counting objects:  60% (77/128)\u001b[K\rremote: Counting objects:  61% (79/128)\u001b[K\rremote: Counting objects:  62% (80/128)\u001b[K\rremote: Counting objects:  63% (81/128)\u001b[K\rremote: Counting objects:  64% (82/128)\u001b[K\rremote: Counting objects:  65% (84/128)\u001b[K\rremote: Counting objects:  66% (85/128)\u001b[K\rremote: Counting objects:  67% (86/128)\u001b[K\rremote: Counting objects:  68% (88/128)\u001b[K\rremote: Counting objects:  69% (89/128)\u001b[K\rremote: Counting objects:  70% (90/128)\u001b[K\rremote: Counting objects:  71% (91/128)\u001b[K\rremote: Counting objects:  72% (93/128)\u001b[K\rremote: Counting objects:  73% (94/128)\u001b[K\rremote: Counting objects:  74% (95/128)\u001b[K\rremote: Counting objects:  75% (96/128)\u001b[K\rremote: Counting objects:  76% (98/128)\u001b[K\rremote: Counting objects:  77% (99/128)\u001b[K\rremote: Counting objects:  78% (100/128)\u001b[K\rremote: Counting objects:  79% (102/128)\u001b[K\rremote: Counting objects:  80% (103/128)\u001b[K\rremote: Counting objects:  81% (104/128)\u001b[K\rremote: Counting objects:  82% (105/128)\u001b[K\rremote: Counting objects:  83% (107/128)\u001b[K\rremote: Counting objects:  84% (108/128)\u001b[K\rremote: Counting objects:  85% (109/128)\u001b[K\rremote: Counting objects:  86% (111/128)\u001b[K\rremote: Counting objects:  87% (112/128)\u001b[K\rremote: Counting objects:  88% (113/128)\u001b[K\rremote: Counting objects:  89% (114/128)\u001b[K\rremote: Counting objects:  90% (116/128)\u001b[K\rremote: Counting objects:  91% (117/128)\u001b[K\rremote: Counting objects:  92% (118/128)\u001b[K\rremote: Counting objects:  93% (120/128)\u001b[K\rremote: Counting objects:  94% (121/128)\u001b[K\rremote: Counting objects:  95% (122/128)\u001b[K\rremote: Counting objects:  96% (123/128)\u001b[K\rremote: Counting objects:  97% (125/128)\u001b[K\rremote: Counting objects:  98% (126/128)\u001b[K\rremote: Counting objects:  99% (127/128)\u001b[K\rremote: Counting objects: 100% (128/128)\u001b[K\rremote: Counting objects: 100% (128/128), done.\u001b[K\n",
            "remote: Compressing objects:   1% (1/68)\u001b[K\rremote: Compressing objects:   2% (2/68)\u001b[K\rremote: Compressing objects:   4% (3/68)\u001b[K\rremote: Compressing objects:   5% (4/68)\u001b[K\rremote: Compressing objects:   7% (5/68)\u001b[K\rremote: Compressing objects:   8% (6/68)\u001b[K\rremote: Compressing objects:  10% (7/68)\u001b[K\rremote: Compressing objects:  11% (8/68)\u001b[K\rremote: Compressing objects:  13% (9/68)\u001b[K\rremote: Compressing objects:  14% (10/68)\u001b[K\rremote: Compressing objects:  16% (11/68)\u001b[K\rremote: Compressing objects:  17% (12/68)\u001b[K\rremote: Compressing objects:  19% (13/68)\u001b[K\rremote: Compressing objects:  20% (14/68)\u001b[K\rremote: Compressing objects:  22% (15/68)\u001b[K\rremote: Compressing objects:  23% (16/68)\u001b[K\rremote: Compressing objects:  25% (17/68)\u001b[K\rremote: Compressing objects:  26% (18/68)\u001b[K\rremote: Compressing objects:  27% (19/68)\u001b[K\rremote: Compressing objects:  29% (20/68)\u001b[K\rremote: Compressing objects:  30% (21/68)\u001b[K\rremote: Compressing objects:  32% (22/68)\u001b[K\rremote: Compressing objects:  33% (23/68)\u001b[K\rremote: Compressing objects:  35% (24/68)\u001b[K\rremote: Compressing objects:  36% (25/68)\u001b[K\rremote: Compressing objects:  38% (26/68)\u001b[K\rremote: Compressing objects:  39% (27/68)\u001b[K\rremote: Compressing objects:  41% (28/68)\u001b[K\rremote: Compressing objects:  42% (29/68)\u001b[K\rremote: Compressing objects:  44% (30/68)\u001b[K\rremote: Compressing objects:  45% (31/68)\u001b[K\rremote: Compressing objects:  47% (32/68)\u001b[K\rremote: Compressing objects:  48% (33/68)\u001b[K\rremote: Compressing objects:  50% (34/68)\u001b[K\rremote: Compressing objects:  51% (35/68)\u001b[K\rremote: Compressing objects:  52% (36/68)\u001b[K\rremote: Compressing objects:  54% (37/68)\u001b[K\rremote: Compressing objects:  55% (38/68)\u001b[K\rremote: Compressing objects:  57% (39/68)\u001b[K\rremote: Compressing objects:  58% (40/68)\u001b[K\rremote: Compressing objects:  60% (41/68)\u001b[K\rremote: Compressing objects:  61% (42/68)\u001b[K\rremote: Compressing objects:  63% (43/68)\u001b[K\rremote: Compressing objects:  64% (44/68)\u001b[K\rremote: Compressing objects:  66% (45/68)\u001b[K\rremote: Compressing objects:  67% (46/68)\u001b[K\rremote: Compressing objects:  69% (47/68)\u001b[K\rremote: Compressing objects:  70% (48/68)\u001b[K\rremote: Compressing objects:  72% (49/68)\u001b[K\rremote: Compressing objects:  73% (50/68)\u001b[K\rremote: Compressing objects:  75% (51/68)\u001b[K\rremote: Compressing objects:  76% (52/68)\u001b[K\rremote: Compressing objects:  77% (53/68)\u001b[K\rremote: Compressing objects:  79% (54/68)\u001b[K\rremote: Compressing objects:  80% (55/68)\u001b[K\rremote: Compressing objects:  82% (56/68)\u001b[K\rremote: Compressing objects:  83% (57/68)\u001b[K\rremote: Compressing objects:  85% (58/68)\u001b[K\rremote: Compressing objects:  86% (59/68)\u001b[K\rremote: Compressing objects:  88% (60/68)\u001b[K\rremote: Compressing objects:  89% (61/68)\u001b[K\rremote: Compressing objects:  91% (62/68)\u001b[K\rremote: Compressing objects:  92% (63/68)\u001b[K\rremote: Compressing objects:  94% (64/68)\u001b[K\rremote: Compressing objects:  95% (65/68)\u001b[K\rremote: Compressing objects:  97% (66/68)\u001b[K\rremote: Compressing objects:  98% (67/68)\u001b[K\rremote: Compressing objects: 100% (68/68)\u001b[K\rremote: Compressing objects: 100% (68/68), done.\u001b[K\n",
            "Receiving objects:   0% (1/128)   \rReceiving objects:   1% (2/128)   \rReceiving objects:   2% (3/128)   \rReceiving objects:   3% (4/128)   \rReceiving objects:   4% (6/128)   \rReceiving objects:   5% (7/128)   \rReceiving objects:   6% (8/128)   \rReceiving objects:   7% (9/128)   \rReceiving objects:   8% (11/128)   \rReceiving objects:   9% (12/128)   \rReceiving objects:  10% (13/128)   \rReceiving objects:  11% (15/128)   \rReceiving objects:  12% (16/128)   \rReceiving objects:  13% (17/128)   \rReceiving objects:  14% (18/128)   \rReceiving objects:  15% (20/128)   \rReceiving objects:  16% (21/128)   \rReceiving objects:  17% (22/128)   \rReceiving objects:  18% (24/128)   \rReceiving objects:  19% (25/128)   \rReceiving objects:  20% (26/128)   \rReceiving objects:  21% (27/128)   \rReceiving objects:  22% (29/128)   \rReceiving objects:  23% (30/128)   \rReceiving objects:  24% (31/128)   \rReceiving objects:  25% (32/128)   \rReceiving objects:  26% (34/128)   \rReceiving objects:  27% (35/128)   \rReceiving objects:  28% (36/128)   \rReceiving objects:  29% (38/128)   \rReceiving objects:  30% (39/128)   \rReceiving objects:  31% (40/128)   \rReceiving objects:  32% (41/128)   \rReceiving objects:  33% (43/128)   \rReceiving objects:  34% (44/128)   \rReceiving objects:  35% (45/128)   \rReceiving objects:  36% (47/128)   \rremote: Total 128 (delta 70), reused 112 (delta 56), pack-reused 0\u001b[K\n",
            "Receiving objects:  37% (48/128)   \rReceiving objects:  38% (49/128)   \rReceiving objects:  39% (50/128)   \rReceiving objects:  40% (52/128)   \rReceiving objects:  41% (53/128)   \rReceiving objects:  42% (54/128)   \rReceiving objects:  43% (56/128)   \rReceiving objects:  44% (57/128)   \rReceiving objects:  45% (58/128)   \rReceiving objects:  46% (59/128)   \rReceiving objects:  47% (61/128)   \rReceiving objects:  48% (62/128)   \rReceiving objects:  49% (63/128)   \rReceiving objects:  50% (64/128)   \rReceiving objects:  51% (66/128)   \rReceiving objects:  52% (67/128)   \rReceiving objects:  53% (68/128)   \rReceiving objects:  54% (70/128)   \rReceiving objects:  55% (71/128)   \rReceiving objects:  56% (72/128)   \rReceiving objects:  57% (73/128)   \rReceiving objects:  58% (75/128)   \rReceiving objects:  59% (76/128)   \rReceiving objects:  60% (77/128)   \rReceiving objects:  61% (79/128)   \rReceiving objects:  62% (80/128)   \rReceiving objects:  63% (81/128)   \rReceiving objects:  64% (82/128)   \rReceiving objects:  65% (84/128)   \rReceiving objects:  66% (85/128)   \rReceiving objects:  67% (86/128)   \rReceiving objects:  68% (88/128)   \rReceiving objects:  69% (89/128)   \rReceiving objects:  70% (90/128)   \rReceiving objects:  71% (91/128)   \rReceiving objects:  72% (93/128)   \rReceiving objects:  73% (94/128)   \rReceiving objects:  74% (95/128)   \rReceiving objects:  75% (96/128)   \rReceiving objects:  76% (98/128)   \rReceiving objects:  77% (99/128)   \rReceiving objects:  78% (100/128)   \rReceiving objects:  79% (102/128)   \rReceiving objects:  80% (103/128)   \rReceiving objects:  81% (104/128)   \rReceiving objects:  82% (105/128)   \rReceiving objects:  83% (107/128)   \rReceiving objects:  84% (108/128)   \rReceiving objects:  85% (109/128)   \rReceiving objects:  86% (111/128)   \rReceiving objects:  87% (112/128)   \rReceiving objects:  88% (113/128)   \rReceiving objects:  89% (114/128)   \rReceiving objects:  90% (116/128)   \rReceiving objects:  91% (117/128)   \rReceiving objects:  92% (118/128)   \rReceiving objects:  93% (120/128)   \rReceiving objects:  94% (121/128)   \rReceiving objects:  95% (122/128)   \rReceiving objects:  96% (123/128)   \rReceiving objects:  97% (125/128)   \rReceiving objects:  98% (126/128)   \rReceiving objects:  99% (127/128)   \rReceiving objects: 100% (128/128)   \rReceiving objects: 100% (128/128), 148.56 KiB | 16.51 MiB/s, done.\n",
            "Resolving deltas:   0% (0/70)   \rResolving deltas:  12% (9/70)   \rResolving deltas:  14% (10/70)   \rResolving deltas:  17% (12/70)   \rResolving deltas:  24% (17/70)   \rResolving deltas:  27% (19/70)   \rResolving deltas:  35% (25/70)   \rResolving deltas:  38% (27/70)   \rResolving deltas:  44% (31/70)   \rResolving deltas:  57% (40/70)   \rResolving deltas:  58% (41/70)   \rResolving deltas:  60% (42/70)   \rResolving deltas:  65% (46/70)   \rResolving deltas:  67% (47/70)   \rResolving deltas:  74% (52/70)   \rResolving deltas:  75% (53/70)   \rResolving deltas:  81% (57/70)   \rResolving deltas:  84% (59/70)   \rResolving deltas:  85% (60/70)   \rResolving deltas:  88% (62/70)   \rResolving deltas:  92% (65/70)   \rResolving deltas:  94% (66/70)   \rResolving deltas:  98% (69/70)   \rResolving deltas: 100% (70/70)   \rResolving deltas: 100% (70/70), done.\n",
            "Collecting pyaml\n",
            "  Downloading https://files.pythonhosted.org/packages/15/c4/1310a054d33abc318426a956e7d6df0df76a6ddfa9c66f6310274fb75d42/pyaml-20.4.0-py2.py3-none-any.whl\n",
            "Requirement already satisfied: numpy in /usr/local/lib/python3.7/dist-packages (1.19.5)\n",
            "Collecting faiss-gpu\n",
            "\u001b[?25l  Downloading https://files.pythonhosted.org/packages/e6/20/cce8f99dde167453ea108f35cd4bfffcc318a314aaf1bdfb167f6be2c989/faiss_gpu-1.7.1.post2-cp37-cp37m-manylinux_2_17_x86_64.manylinux2014_x86_64.whl (89.7MB)\n",
            "\u001b[K     |████████████████████████████████| 89.7MB 33kB/s \n",
            "\u001b[?25hRequirement already satisfied: PyYAML in /usr/local/lib/python3.7/dist-packages (from pyaml) (3.13)\n",
            "Installing collected packages: pyaml, faiss-gpu\n",
            "Successfully installed faiss-gpu-1.7.1.post2 pyaml-20.4.0\n",
            "running build_ext\n",
            "building 'asmk.hamming' extension\n",
            "creating build\n",
            "creating build/temp.linux-x86_64-3.7\n",
            "creating build/temp.linux-x86_64-3.7/cython\n",
            "x86_64-linux-gnu-gcc -pthread -Wno-unused-result -Wsign-compare -DNDEBUG -g -fwrapv -O2 -Wall -g -fdebug-prefix-map=/build/python3.7-OGiuun/python3.7-3.7.10=. -fstack-protector-strong -Wformat -Werror=format-security -g -fdebug-prefix-map=/build/python3.7-OGiuun/python3.7-3.7.10=. -fstack-protector-strong -Wformat -Werror=format-security -Wdate-time -D_FORTIFY_SOURCE=2 -fPIC -I/usr/include/python3.7m -c cython/hamming.c -o build/temp.linux-x86_64-3.7/cython/hamming.o\n",
            "\u001b[01m\u001b[Kx86_64-linux-gnu-gcc:\u001b[m\u001b[K \u001b[01;31m\u001b[Kerror: \u001b[m\u001b[Kcython/hamming.c: No such file or directory\n",
            "\u001b[01m\u001b[Kx86_64-linux-gnu-gcc:\u001b[m\u001b[K \u001b[01;31m\u001b[Kfatal error: \u001b[m\u001b[Kno input files\n",
            "compilation terminated.\n",
            "error: command 'x86_64-linux-gnu-gcc' failed with exit status 1\n"
          ],
          "name": "stdout"
        }
      ]
    },
    {
      "cell_type": "code",
      "metadata": {
        "id": "xEvnMVqAKni5"
      },
      "source": [
        "#不足があれば \n",
        "#(pytorchの要求バージョンが古い)\n",
        "import os\n",
        "os.chdir('/content/how')\n",
        "!pip3 install -r requirements.txt"
      ],
      "execution_count": null,
      "outputs": []
    },
    {
      "cell_type": "code",
      "metadata": {
        "id": "V7L5OAQ2nBgr",
        "colab": {
          "base_uri": "https://localhost:8080/"
        },
        "outputId": "bb002806-2807-4506-bfa2-d754c11d895b"
      },
      "source": [
        "import os\n",
        "os.chdir('/content/how/asmk/cython')\n",
        "#/content/how/asmk/cython/setup.py を作成\n",
        "#setup.py (cython実行用)の中身\n",
        "\"\"\"\n",
        "from distutils.core import setup, Extension \n",
        "from Cython.Build import cythonize \n",
        "from numpy import get_include # cimport numpy を使うため\n",
        "\n",
        "ext = Extension(\"hamming\", sources=[\"hamming.pyx\"], include_dirs=['.', get_include()])\n",
        "setup(name=\"hamming\", ext_modules=cythonize([ext]))\n",
        "\"\"\"\n",
        "#実行\n",
        "!python setup.py build_ext --inplace"
      ],
      "execution_count": null,
      "outputs": [
        {
          "output_type": "stream",
          "text": [
            "running build_ext\n",
            "building 'hamming' extension\n",
            "creating build\n",
            "creating build/temp.linux-x86_64-3.7\n",
            "x86_64-linux-gnu-gcc -pthread -Wno-unused-result -Wsign-compare -DNDEBUG -g -fwrapv -O2 -Wall -g -fdebug-prefix-map=/build/python3.7-OGiuun/python3.7-3.7.10=. -fstack-protector-strong -Wformat -Werror=format-security -g -fdebug-prefix-map=/build/python3.7-OGiuun/python3.7-3.7.10=. -fstack-protector-strong -Wformat -Werror=format-security -Wdate-time -D_FORTIFY_SOURCE=2 -fPIC -I. -I/usr/local/lib/python3.7/dist-packages/numpy/core/include -I/usr/include/python3.7m -c hamming.c -o build/temp.linux-x86_64-3.7/hamming.o\n",
            "x86_64-linux-gnu-gcc -pthread -shared -Wl,-O1 -Wl,-Bsymbolic-functions -Wl,-Bsymbolic-functions -Wl,-z,relro -Wl,-Bsymbolic-functions -Wl,-z,relro -g -fdebug-prefix-map=/build/python3.7-OGiuun/python3.7-3.7.10=. -fstack-protector-strong -Wformat -Werror=format-security -Wdate-time -D_FORTIFY_SOURCE=2 build/temp.linux-x86_64-3.7/hamming.o -o /content/how/asmk/cython/hamming.cpython-37m-x86_64-linux-gnu.so\n"
          ],
          "name": "stdout"
        }
      ]
    },
    {
      "cell_type": "code",
      "metadata": {
        "id": "MlII0dUnTSHF"
      },
      "source": [
        "# ローカルへ保存用\n",
        "!zip -r /content/exp_0712_2.zip /content/how/how_data/experiments"
      ],
      "execution_count": null,
      "outputs": []
    },
    {
      "cell_type": "code",
      "metadata": {
        "id": "S4PWxCO1MmSx",
        "colab": {
          "base_uri": "https://localhost:8080/"
        },
        "outputId": "5579c832-8443-4eef-8136-a9dd568b3659"
      },
      "source": [
        "#コードの実行\n",
        "import os\n",
        "os.chdir('/content/how')\n",
        "\n",
        "########### 元コード変更箇所 ##################################################\n",
        "#./stage/evaluate.py:asmk.asmk_method→asmk.asmk.asmk_method\n",
        "#./asmk/kernel.py:import . →import ..cython from hamming\n",
        "#./examples/demo_how.py:(L90)コメントアウト(自前データセット使用のため)\n",
        "#./how/utils/data_helper.py:(L14～)training_set = 'mitsubishi_dataset'\n",
        "#                           ims_root:'ims' → 'png_images'\n",
        "#                           db = pickle.load(f)#['train'] ← コメントアウト\n",
        "#       同  elif dataset == 'val_eccv20':\n",
        "#              db_root,  fn_val_proper, ims_root を変更\n",
        "#              ※fn_val_proper = db_root+'/mitsubishi_dataset_val-eccv2020.pkl'\n",
        "#./cirtorch/datasets/datahelper.py:return os.path.join()変更\n",
        "#./cirtorch/datasets/traindataset.py:(L50～).ymlから読み込んだ情報修正\n",
        "#if name == 'retrieval-SfM-120k':\n",
        "#  print(\"changed retrieval-SfM-120k => mitsubishi_dataset\")\n",
        "#  name = 'mitsubishi_dataset'\n",
        "#ims_rootの'ims' → 'png_images'\n",
        "#db = pickle.load(f)#[mode] ←コメントアウト\n",
        "#/conent/how/how_data/train/mitsubishi_dataset作成\n",
        "#\".pkl\"ファイル2つとlocalからpng_images移動\n",
        "# /how/how_tempを作成\n",
        "\n",
        "#!python3 examples/demo_how.py eval examples/params/eccv20/eval_how_r18_1000.yml -e official_how_r18_1000\n",
        "!python3 examples/demo_how.py train examples/params/eccv20/train_how_r18.yml -e train_how_r18"
      ],
      "execution_count": null,
      "outputs": [
        {
          "output_type": "stream",
          "text": [
            "HOW INFO: Skipping network training, already trained\n"
          ],
          "name": "stdout"
        }
      ]
    }
  ]
}